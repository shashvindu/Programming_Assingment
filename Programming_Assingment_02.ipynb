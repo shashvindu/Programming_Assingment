{
 "cells": [
  {
   "cell_type": "markdown",
   "id": "23d1a266",
   "metadata": {},
   "source": [
    "1.\tWrite a Python program to convert kilometers to miles?\n",
    "2.\tWrite a Python program to convert Celsius to Fahrenheit?\n",
    "3.\tWrite a Python program to display calendar?\n",
    "4.\tWrite a Python program to solve quadratic equation?\n",
    "5.\tWrite a Python program to swap two variables without temp variable?\n"
   ]
  },
  {
   "cell_type": "code",
   "execution_count": 14,
   "id": "c53f43c6",
   "metadata": {},
   "outputs": [],
   "source": [
    "#1.\n",
    "def km_to_miles():\n",
    "    km=float(input(\"please enter distance in km:  \"))\n",
    "    if km<0:\n",
    "        print('please use positive value')\n",
    "    else:\n",
    "        miles = km*0.621371\n",
    "        print(\"{} km is equal to {} miles.\".format(km,miles))\n",
    "\n"
   ]
  },
  {
   "cell_type": "code",
   "execution_count": 15,
   "id": "cf9a5054",
   "metadata": {},
   "outputs": [
    {
     "name": "stdout",
     "output_type": "stream",
     "text": [
      "please enter distance in km:  5\n",
      "5.0 km is equal to 3.106855 miles.\n"
     ]
    }
   ],
   "source": [
    "km_to_miles()"
   ]
  },
  {
   "cell_type": "code",
   "execution_count": 10,
   "id": "8843bad5",
   "metadata": {},
   "outputs": [],
   "source": [
    "#2\n",
    "def celsius_to_fahrenheit():\n",
    "    C=float(input(\"please enter temp in °C:  \"))\n",
    "    F = (C * 9/5) + 32\n",
    "    print(\"{}°C is equal to {}°F\".format(C,F))\n",
    "    \n"
   ]
  },
  {
   "cell_type": "code",
   "execution_count": 11,
   "id": "c1fc2ad9",
   "metadata": {},
   "outputs": [
    {
     "name": "stdout",
     "output_type": "stream",
     "text": [
      "please enter temp in °C:  50\n",
      "50.0°C is equal to 122.0°F\n"
     ]
    }
   ],
   "source": [
    "celsius_to_fahrenheit()"
   ]
  },
  {
   "cell_type": "code",
   "execution_count": 20,
   "id": "7b676785",
   "metadata": {},
   "outputs": [
    {
     "name": "stdout",
     "output_type": "stream",
     "text": [
      "please enter month in mm format: 6\n",
      "please enter year in yyyy format: 2022\n",
      "5\n",
      "June 2022\n",
      "Su Mo Tu We Th Fr Sa\n",
      "         01 02 03 04 \n",
      "05 06 07 08 09 10 11 \n",
      "12 13 14 15 16 17 18 \n",
      "19 20 21 22 23 24 25 \n",
      "26 27 28 29 30 "
     ]
    }
   ],
   "source": [
    "#3\n",
    "# Without use of Calendar module\n",
    "   \n",
    "mm = int(input(\"please enter month in mm format: \"))\n",
    "yyyy = int(input(\"please enter year in yyyy format: \"))\n",
    "month ={1:'January', 2:'February', 3:'March', 4:'April', 5:'May', 6:'June', \n",
    "        7:'July', 8:'August', 9:'September', 10:'October',11:'November', 12:'December'}\n",
    "ny =[31, 28, 31, 30, 31, 30,31, 31, 30, 31, 30, 31]\n",
    "ly =[31, 29, 31, 30, 31, 30,31, 31, 30, 31, 30, 31]\n",
    "s = 0\n",
    "# code below for calculation of odd days\n",
    "day =(yyyy-1)% 400\n",
    "day = (day//100)*5 + ((day % 100) - (day % 100)//4) + ((day % 100)//4)*2\n",
    "day = day % 7\n",
    "print(day)\n",
    "\n",
    "if yyyy % 4 == 0:\n",
    "    for i in range(mm-1):\n",
    "        s+= ly[i]\n",
    "else:\n",
    "    for i in range(mm-1):\n",
    "        s+= ny[i]\n",
    "\n",
    "day += s % 7\n",
    "day = day % 7\n",
    "\n",
    "# variable used for white space filling \n",
    "# where date not present\n",
    "space =''\n",
    "space = space.rjust(2, ' ')\n",
    "\n",
    "# code below is to print the calendar\n",
    "print(month[mm], yyyy)\n",
    "print('Su', 'Mo', 'Tu', 'We', 'Th', 'Fr', 'Sa')\n",
    "\n",
    "if mm == 9 or mm == 4 or mm == 6 or mm == 11: \n",
    "    for i in range(31 + day):\n",
    "          \n",
    "        if i<= day:\n",
    "            print(space, end =' ')\n",
    "        else:\n",
    "            print(\"{:02d}\".format(i-day), end =' ')\n",
    "            if (i + 1)% 7 == 0:\n",
    "                print()\n",
    "elif mm == 2:\n",
    "    if yyyy % 4 == 0:\n",
    "        p = 30\n",
    "    else:\n",
    "        p = 29\n",
    "          \n",
    "    for i in range(p + day):\n",
    "        if i<= day:\n",
    "            print(space, end =' ')\n",
    "        else:\n",
    "            print(\"{:02d}\".format(i-day), end =' ')\n",
    "            if (i + 1)% 7 == 0:\n",
    "                print() \n",
    "else:\n",
    "    for i in range(32 + day):\n",
    "          \n",
    "        if i<= day:\n",
    "            print(space, end =' ')\n",
    "        else:\n",
    "            print(\"{:02d}\".format(i-day), end =' ')\n",
    "            if (i + 1)% 7 == 0:\n",
    "                print()"
   ]
  },
  {
   "cell_type": "code",
   "execution_count": 23,
   "id": "9c83f598",
   "metadata": {},
   "outputs": [
    {
     "name": "stdout",
     "output_type": "stream",
     "text": [
      "     June 2022\n",
      "Mo Tu We Th Fr Sa Su\n",
      "       1  2  3  4  5\n",
      " 6  7  8  9 10 11 12\n",
      "13 14 15 16 17 18 19\n",
      "20 21 22 23 24 25 26\n",
      "27 28 29 30\n",
      "\n"
     ]
    }
   ],
   "source": [
    "# With use of Calendar module\n",
    "import calendar\n",
    "def display_calender(year,month):\n",
    "    print(calendar.month(year,month))\n",
    "\n",
    "\n",
    "display_calender(2022,6)\n"
   ]
  },
  {
   "cell_type": "code",
   "execution_count": 46,
   "id": "571ce751",
   "metadata": {},
   "outputs": [
    {
     "name": "stdout",
     "output_type": "stream",
     "text": [
      "Enter num_1: 1\n",
      "Enter num_2: 4\n",
      "Enter num_3: 2\n",
      "Quadratic Equation is: 1x^2+4x+2=0\n",
      "8\n",
      "α is -0.586 and β is -3.414 \n"
     ]
    }
   ],
   "source": [
    "#4. Write a Python program to solve quadratic equation?\n",
    " # ax^2+bx+c=0\n",
    "a = int(input(\"Enter num_1: \"))\n",
    "b = int(input(\"Enter num_2: \"))\n",
    "c = int(input(\"Enter num_3: \"))\n",
    "\n",
    "print(\"Quadratic Equation is: {}x^2+{}x+{}=0\".format(a,b,c))\n",
    "\n",
    "discriminant=b * b - 4 * a * c\n",
    "\n",
    "print(discriminant)\n",
    "\n",
    "\n",
    "if a==0:\n",
    "    print('it not a quadratic equation') \n",
    "elif discriminant<0:\n",
    "    print(\"roots are a complex Number \")\n",
    "    rp1=-b/2*a\n",
    "    cp1=str(format((abs(discriminant)**.5/2*a),'.3f'))+'i'\n",
    "    print('α is {} + {}'.format(rp1,cp1))\n",
    "    print('β is {} - {}'.format(rp1,cp1))\n",
    "elif discriminant==0:\n",
    "    rp1=format(-b/2*a,'.3f')\n",
    "    print('α and β both are same',rp1)\n",
    "else:\n",
    "    α=format((-b/2*a)+(abs(discriminant)**.5/2*a),'.3f')\n",
    "    β=format((-b/2*a)-(abs(discriminant)**.5/2*a),'.3f')\n",
    "    print(\"α is {} and β is {} \".format(α,β))\n",
    "    "
   ]
  },
  {
   "cell_type": "code",
   "execution_count": 49,
   "id": "9028e027",
   "metadata": {},
   "outputs": [
    {
     "name": "stdout",
     "output_type": "stream",
     "text": [
      "7\n",
      "8\n",
      "V1 is: 7\n",
      "V2 is: 8\n",
      "Now V1 is V2: V1= 8\n",
      "Now V2 is V1: V2= 7\n"
     ]
    }
   ],
   "source": [
    "#5.Write a Python program to swap two variables without temp variable?\n",
    "V1=input()\n",
    "V2=input()\n",
    "print(\"V1 is: {}\" .format(V1))\n",
    "print(\"V2 is: {}\" .format(V2))\n",
    "V1,V2=V2,V1\n",
    "print(\"Now V1 is V2: V1= {}\" .format(V1))\n",
    "print(\"Now V2 is V1: V2= {}\" .format(V2))"
   ]
  },
  {
   "cell_type": "code",
   "execution_count": null,
   "id": "7ecd37f5",
   "metadata": {},
   "outputs": [],
   "source": []
  },
  {
   "cell_type": "code",
   "execution_count": null,
   "id": "094c1017",
   "metadata": {},
   "outputs": [],
   "source": []
  }
 ],
 "metadata": {
  "kernelspec": {
   "display_name": "Python 3 (ipykernel)",
   "language": "python",
   "name": "python3"
  },
  "language_info": {
   "codemirror_mode": {
    "name": "ipython",
    "version": 3
   },
   "file_extension": ".py",
   "mimetype": "text/x-python",
   "name": "python",
   "nbconvert_exporter": "python",
   "pygments_lexer": "ipython3",
   "version": "3.10.4"
  }
 },
 "nbformat": 4,
 "nbformat_minor": 5
}
