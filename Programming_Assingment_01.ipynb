{
 "cells": [
  {
   "cell_type": "markdown",
   "id": "0907130f",
   "metadata": {},
   "source": [
    "#1.\tWrite a Python program to print \"Hello Python\"?\n",
    "#2.\tWrite a Python program to do arithmetical operations addition and division?\n",
    "#3.\tWrite a Python program to find the area of a triangle?\n",
    "#4.\tWrite a Python program to swap two variables?\n",
    "#5.\tWrite a Python program to generate a random number?\n"
   ]
  },
  {
   "cell_type": "code",
   "execution_count": 1,
   "id": "fd00337d",
   "metadata": {},
   "outputs": [
    {
     "name": "stdout",
     "output_type": "stream",
     "text": [
      "Enter Input: Hello Python\n",
      "Hello Python\n"
     ]
    }
   ],
   "source": [
    "#1.\tWrite a Python program to print \"Hello Python\"?\n",
    "a = input(\"Enter Input: \")\n",
    "print(a)"
   ]
  },
  {
   "cell_type": "code",
   "execution_count": 4,
   "id": "0f482458",
   "metadata": {},
   "outputs": [
    {
     "name": "stdout",
     "output_type": "stream",
     "text": [
      "Enter Num_1: 1.5\n",
      "Enter Operation: /\n",
      "Enter Num_2: 2.5\n",
      "The division of 1.5 and 2.5 is 0.6\n"
     ]
    }
   ],
   "source": [
    "#2.Write a Python program to do arithmetical operations addition and division?\n",
    "num1 = float(input(\"Enter Num_1: \"))\n",
    "Operation= input(\"Enter Operation: \")\n",
    "num2 = float(input(\"Enter Num_2: \"))\n",
    "if Operation == \"+\":\n",
    "    sum = num1+num2\n",
    "    print('The sum of {0} and {1} is {2}'.format(num1, num2, sum))\n",
    "elif Operation == \"/\":\n",
    "    div = num1/num2\n",
    "    print('The division of {0} and {1} is {2}'.format(num1, num2, div))\n",
    "else:\n",
    "    print(\"Enter correct operation\")"
   ]
  },
  {
   "cell_type": "code",
   "execution_count": 20,
   "id": "7b374a9b",
   "metadata": {},
   "outputs": [],
   "source": [
    "#udf for above\n",
    "def Ops(num1,Operation,num2):\n",
    "    \"\"\"Use arithmetic symbols as a 2ed argument like '+'or '/'\"\"\"\n",
    "    if Operation == \"+\":\n",
    "        sum = num1+num2\n",
    "        print('The sum of {0} and {1} is {2}'.format(num1, num2, sum))\n",
    "    elif Operation == \"/\":\n",
    "        div = num1/num2\n",
    "        print('The division of {0} and {1} is {2}'.format(num1, num2, div))\n",
    "    else:\n",
    "        print(\"Enter correct operation\")"
   ]
  },
  {
   "cell_type": "code",
   "execution_count": 21,
   "id": "03bbb7e9",
   "metadata": {},
   "outputs": [
    {
     "name": "stdout",
     "output_type": "stream",
     "text": [
      "The division of 3.5 and 6.66 is 0.5255255255255256\n"
     ]
    }
   ],
   "source": [
    "Ops(3.5,\"/\",6.66)"
   ]
  },
  {
   "cell_type": "code",
   "execution_count": 22,
   "id": "ee546fa4",
   "metadata": {},
   "outputs": [
    {
     "name": "stdout",
     "output_type": "stream",
     "text": [
      "The sum of 3.5 and 6.66 is 10.16\n"
     ]
    }
   ],
   "source": [
    "Ops(3.5,\"+\",6.66)"
   ]
  },
  {
   "cell_type": "code",
   "execution_count": 23,
   "id": "18de564c",
   "metadata": {},
   "outputs": [
    {
     "name": "stdout",
     "output_type": "stream",
     "text": [
      "36.0\n"
     ]
    }
   ],
   "source": [
    "#3.\tWrite a Python program to find the area of a triangle?\n",
    "def area_of_triangle(base,height):\n",
    "    \n",
    "    area = (base*height)/2\n",
    "    \n",
    "    print(area)"
   ]
  },
  {
   "cell_type": "code",
   "execution_count": 37,
   "id": "2c0f84a6",
   "metadata": {},
   "outputs": [],
   "source": [
    "import math\n",
    "def Heron_formula(a,b,c):\n",
    "    if a+b>=c and b+c>=a and c+a>=b:\n",
    "        s=(a+b+c)/2\n",
    "        area=math.sqrt(s*(s-a)*(s-b)*(s-c))\n",
    "        print(area)\n",
    "    else:\n",
    "        return (\"Triangle is Invalid\")"
   ]
  },
  {
   "cell_type": "code",
   "execution_count": 36,
   "id": "a921e98c",
   "metadata": {},
   "outputs": [
    {
     "data": {
      "text/plain": [
       "'Triangle is Invalid'"
      ]
     },
     "execution_count": 36,
     "metadata": {},
     "output_type": "execute_result"
    }
   ],
   "source": [
    "Heron_formula(2,4,15)"
   ]
  },
  {
   "cell_type": "code",
   "execution_count": 44,
   "id": "6cd10777",
   "metadata": {},
   "outputs": [
    {
     "name": "stdout",
     "output_type": "stream",
     "text": [
      "6\n",
      "7\n",
      "V1 is: 6\n",
      "V2 is: 7\n",
      "Now V1 is V2: 7\n",
      "Now V2 is V1: 6\n"
     ]
    }
   ],
   "source": [
    "#4.\tWrite a Python program to swap two variables?\n",
    "V1=input()\n",
    "V2=input()\n",
    "print(\"V1 is: {}\" .format(V1))\n",
    "print(\"V2 is: {}\" .format(V2))\n",
    "V1,V2=V2,V1\n",
    "print(\"Now V1 is V2: {}\" .format(V1))\n",
    "print(\"Now V2 is V1: {}\" .format(V2))"
   ]
  },
  {
   "cell_type": "code",
   "execution_count": 46,
   "id": "5ffc856f",
   "metadata": {},
   "outputs": [
    {
     "name": "stdout",
     "output_type": "stream",
     "text": [
      "Enter var_1: 5\n",
      "Enter var_2: 6\n",
      "Now V1 is 6 and V2 is 5 \n"
     ]
    }
   ],
   "source": [
    "#by using temp\n",
    "V1 = input(\"Enter var_1 V1: \")\n",
    "V2 = input(\"Enter var_2 V2: \")\n",
    "\n",
    "temp = V1\n",
    "V1 = V2\n",
    "V2 = temp\n",
    "print(\"Now V1 is {} and V2 is {} !\".format(V1,V2))"
   ]
  },
  {
   "cell_type": "code",
   "execution_count": 50,
   "id": "79bd0da3",
   "metadata": {},
   "outputs": [],
   "source": [
    "def swap(V1,V2):\n",
    "    temp = V1\n",
    "    V1 = V2\n",
    "    V2 = temp #V1,V2=V2,V1\n",
    "    print(\"Now V1 is {} and V2 is {} !\".format(V1,V2))\n"
   ]
  },
  {
   "cell_type": "code",
   "execution_count": 52,
   "id": "210fdaa0",
   "metadata": {},
   "outputs": [
    {
     "name": "stdout",
     "output_type": "stream",
     "text": [
      "Now V1 is 0 and V2 is 6 !\n"
     ]
    }
   ],
   "source": [
    "swap(6,0)"
   ]
  },
  {
   "cell_type": "code",
   "execution_count": 53,
   "id": "1b195e25",
   "metadata": {},
   "outputs": [
    {
     "name": "stdout",
     "output_type": "stream",
     "text": [
      "0.4760008604657294\n"
     ]
    }
   ],
   "source": [
    "#5.\tWrite a Python program to generate a random number?\n",
    "import random\n",
    "rndno = random.random()\n",
    "print(rndno)"
   ]
  },
  {
   "cell_type": "code",
   "execution_count": null,
   "id": "29cd9cf8",
   "metadata": {},
   "outputs": [],
   "source": []
  },
  {
   "cell_type": "code",
   "execution_count": null,
   "id": "5e127633",
   "metadata": {},
   "outputs": [],
   "source": []
  }
 ],
 "metadata": {
  "kernelspec": {
   "display_name": "Python 3 (ipykernel)",
   "language": "python",
   "name": "python3"
  },
  "language_info": {
   "codemirror_mode": {
    "name": "ipython",
    "version": 3
   },
   "file_extension": ".py",
   "mimetype": "text/x-python",
   "name": "python",
   "nbconvert_exporter": "python",
   "pygments_lexer": "ipython3",
   "version": "3.10.4"
  }
 },
 "nbformat": 4,
 "nbformat_minor": 5
}
